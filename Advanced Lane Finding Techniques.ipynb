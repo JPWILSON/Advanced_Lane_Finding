{
 "cells": [
  {
   "cell_type": "markdown",
   "metadata": {
    "deletable": true,
    "editable": true
   },
   "source": [
    "# Advanced Lane Finding    \n",
    "[**Jean-Paul Wilson**](http://jpwilson.github.io \"JP's Personal site\")\n",
    "\n",
    "## Introduction\n",
    "\n",
    "The following notebook demonstrates an implementation of a lane finding algorithm that allows for the prediction of a vehicle's position relative to the lane lines, and the amount of curvature of the lanes on the road ahead. \n",
    "The process can be divided into the following main steps: \n",
    "1. Camera Lense Calibration and Distortion Correction.\n",
    "2. Edge Detection with Color and Gradient Thresholding.\n",
    "3. Perspective Transformation.\n",
    "4. Determination of Lane Lines. \n",
    "5. Measure road curvature and Vehicle Location.\n",
    "\n",
    "After importing all necessary libraries, the notebook will address the steps above sequentially. \n",
    "\n",
    "**Note: **Although the techniques implemented in this notebook may be useful for autonomous driving and driver assistance programs, it would not suffice on its own. One of the reasons for this is that several simplifying assumptions have been made, which are not applicable in the real world: \n",
    "* The road ahead of the vehicle is assumed to be flat, which is often not the case. \n",
    "* The location of the video recorder (dashcam) is assumed to be in the centre of the windshield of the car. \n",
    "* The height of the video recorder is assumed to be the same for all vehicles that would make use of it. \n",
    "* The road is a assumed to have lane lines. \n"
   ]
  },
  {
   "cell_type": "code",
   "execution_count": null,
   "metadata": {
    "collapsed": true,
    "deletable": true,
    "editable": true
   },
   "outputs": [],
   "source": [
    "import numpy as np \n",
    "import cv2 \n",
    "import matplotlib.pyplot as plt \n",
    "import matplotlib.image as mpimg\n",
    "import glob "
   ]
  },
  {
   "cell_type": "markdown",
   "metadata": {
    "deletable": true,
    "editable": true
   },
   "source": [
    "### 1. Camera Lense Calibration and Distortion Correction\n",
    "\n",
    "Camera lenses distort the images (radially because of their curvature on the edges, and tangentially when the plane of recording is not parallel to the image) warping their dimensions in the recorded image and video. This is potentially disastrous for autonomous driving, where an accurate interpretation of the vehicle's surroundings is paramount to safe operation. Therefore, in order to correct for the distortions, camera calibration is essential. Chessboard images are the most useful for this because it is simple to locate the corners in grayscaled images of the chessboards. Several cv2 methods are useful for the calibration process. These methods (with their inputs and outputs where applicable) include: \n",
    "> ret, corners = **cv2.findChessboardCorners**(img, pattern_size) \n",
    "\n",
    "> if ret; draw corners, else red circle: **cv2.drawChessboardCorners**(img, pattern_size, corners, ret)\n",
    "\n",
    "> ret, mtx, dist, rvecs, tvecs = **cv2.calibrateCamera**(objpoints, imgpoints, img_shape, None, None)\n",
    "\n",
    "> undist = **cv2.undistort**(img, mtx, dist, None, mtx)\n",
    "\n",
    "The calibration steps are as follows: \n",
    "1. Create an array of object points (which will be the same for each of the images used in the calibration process). \n",
    "2. Create an array of image points, from each of the images used in the calibration process. \n",
    "3. Read in the images, finding their corners, and appending them to the object point and image point arrays. \n",
    "4. Calibrate the images.\n",
    "5. Return the transformed (undistorted) images. \n"
   ]
  },
  {
   "cell_type": "markdown",
   "metadata": {},
   "source": [
    "Images seem larger sometimes | Wide angle distortion \n",
    "-|-\n",
    "![dino](images/dinosaur-mirror_400x266.jpg) | ![dino](images/Car1_400x266.jpg) "
   ]
  },
  {
   "cell_type": "code",
   "execution_count": null,
   "metadata": {
    "collapsed": false,
    "deletable": true,
    "editable": true
   },
   "outputs": [],
   "source": [
    "#%matplotlib inline\n",
    "\n",
    "images = glob.glob('../camera_cal/calibration*.jpg')\n",
    "\n",
    "objpoints = []\n",
    "imgpoints = []\n",
    "\n",
    "objp = np.zeros((6*9,3), np.float32)\n",
    "objp[:,:2] = np.mgrid[0:9,0:6].T.reshape(-1,2)\n",
    "print(\"Is it working\")\n",
    "plt.figure()\n",
    "'''\n",
    "for fname in images:\n",
    "    img = mpimg.imread(fname)\n",
    "    gray = cv2.cvtColor(img, cv2.COLOR_BGR2GRAY)\n",
    "    shape = gray.shape[1], gray.shape[0]\n",
    "    #finding the corners for the image\n",
    "    ret, corners = cv2.findChessboardCorners(gray, (shape), None)\n",
    "    \n",
    "    if ret == True:\n",
    "        imgpoints.append(corners)\n",
    "        onjpoints.append(objp)\n",
    "        img = cv2.drawChessboardCorners(img, shape, corners, ret)\n",
    "        print(\"img: \")\n",
    "        plt.imshow(img)\n",
    "\n",
    "print(\"done\")'''"
   ]
  },
  {
   "cell_type": "code",
   "execution_count": null,
   "metadata": {
    "collapsed": true
   },
   "outputs": [],
   "source": [
    "print(\"Is it working\")"
   ]
  },
  {
   "cell_type": "code",
   "execution_count": null,
   "metadata": {
    "collapsed": true,
    "deletable": true,
    "editable": true
   },
   "outputs": [],
   "source": [
    "'''images = glob.glob('../camera_cal/calibration*.jpg')\n",
    "\n",
    "objpoints = []\n",
    "imgpoints = []\n",
    "\n",
    "plt.figure()\n",
    "\n",
    "objp = np.zeros((6*9,3), np.float32)\n",
    "objp.[:,:2] = np.mgrid[0:9, 0:6]\n",
    "for fname in images:\n",
    "    img = mpimg.imread(fname)\n",
    "    gray = cv2.cvtColor(img, cv2.COLOR_BGR2GRAY)\n",
    "    \n",
    "    ret, corners = cv2.findChessboardCorners(gray, (9, 6), None)\n",
    "    \n",
    "    if ret == True: \n",
    "        impoints.append(corners)\n",
    "        objpoints.append(objp)\n",
    "        \n",
    "        img = cv2.drawChessboardCorners(img, (9, 6), corners, ret)\n",
    "        '''\n",
    "        "
   ]
  },
  {
   "cell_type": "code",
   "execution_count": null,
   "metadata": {
    "collapsed": true,
    "deletable": true,
    "editable": true
   },
   "outputs": [],
   "source": []
  }
 ],
 "metadata": {
  "kernelspec": {
   "display_name": "Python 3",
   "language": "python",
   "name": "python3"
  },
  "language_info": {
   "codemirror_mode": {
    "name": "ipython",
    "version": 3
   },
   "file_extension": ".py",
   "mimetype": "text/x-python",
   "name": "python",
   "nbconvert_exporter": "python",
   "pygments_lexer": "ipython3",
   "version": "3.5.2"
  },
  "widgets": {
   "state": {},
   "version": "1.1.2"
  }
 },
 "nbformat": 4,
 "nbformat_minor": 2
}
